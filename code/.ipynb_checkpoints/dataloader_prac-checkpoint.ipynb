{
 "cells": [
  {
   "cell_type": "code",
   "execution_count": 1,
   "metadata": {},
   "outputs": [],
   "source": [
    "import os\n",
    "from PIL import Image\n",
    "import numpy as np\n",
    "import torch\n",
    "from torch.utils.data import Dataset, DataLoader\n",
    "from torchvision import transforms\n",
    "\n",
    "class DeepFashion(Dataset):\n",
    "    '''\n",
    "    DeepFashion dataset class\n",
    "    img_dir : directory of image files\n",
    "    ann_dir : directory of annotation\n",
    "    transform : how to transform images, should be from torchvision.transforms\n",
    "    '''\n",
    "    def __init__(self, data_dir, ann_dir, transform=None):\n",
    "        self.data_dir = data_dir\n",
    "        self.imdir = []\n",
    "        self.ann = []\n",
    "        self.anndir = os.path.join(self.data_dir, ann_dir)\n",
    "        self.transform = transform\n",
    "        with open(self.anndir, 'r') as ann:\n",
    "            for i, line in enumerate(ann):\n",
    "                if i == 0:\n",
    "                    self.len = int(line.rstrip('\\n'))\n",
    "                elif i > 1:\n",
    "                    imdir, ann = line.rstrip('\\n').split(maxsplit=1)\n",
    "                    self.imdir.append(os.path.join(self.data_dir, imdir))\n",
    "                    ann_np = np.array([int(i) for i in ann.split()])\n",
    "                    ann_np[ann_np == -1] = 0\n",
    "                    self.ann.append(ann_np)\n",
    "        print('completed dataset loading')\n",
    "\n",
    "    def __len__(self):\n",
    "        return self.len\n",
    "\n",
    "    def __getitem__(self, idx):\n",
    "        impath = self.imdir[idx]\n",
    "        img = Image.open(impath)\n",
    "        ann = self.ann[idx]\n",
    "        \n",
    "        if self.transform:\n",
    "            img = self.transform(img)\n",
    "\n",
    "        sample = {'image': img, 'attributes': ann}\n",
    "\n",
    "        return sample"
   ]
  },
  {
   "cell_type": "code",
   "execution_count": 2,
   "metadata": {},
   "outputs": [
    {
     "name": "stdout",
     "output_type": "stream",
     "text": [
      "completed dataset loading\n"
     ]
    }
   ],
   "source": [
    "transform = transforms.Compose([\n",
    "    transforms.Resize((250, 250)),\n",
    "    transforms.ToTensor()\n",
    "])\n",
    "dataset = DeepFashion('../../../local/DeepFashion/', 'ann/list_attr_img.txt',\n",
    "                      transform=transform)"
   ]
  },
  {
   "cell_type": "code",
   "execution_count": 3,
   "metadata": {},
   "outputs": [],
   "source": [
    "import matplotlib.pyplot as plt\n",
    "for i in range(10):\n",
    "    sample = dataset[i]\n",
    "    img = sample['image'].numpy().transpose((1, 2, 0))\n",
    "    plt.figure()\n",
    "    plt.imshow(img)"
   ]
  },
  {
   "cell_type": "code",
   "execution_count": 5,
   "metadata": {},
   "outputs": [],
   "source": [
    "def collate_fn(data):\n",
    "    \"\"\"\n",
    "    converts list of samples to a batch.\n",
    "    sample : {'image': (250, 250, 3), 'attributes': (1000,)}\n",
    "    \"\"\"\n",
    "    image = np.stack([sample['image'] for sample in data], 0)\n",
    "    attributes = np.array([sample['attributes'] for sample in data])\n",
    "    return {'image': image, 'attributes': attributes}"
   ]
  },
  {
   "cell_type": "code",
   "execution_count": 6,
   "metadata": {},
   "outputs": [
    {
     "name": "stdout",
     "output_type": "stream",
     "text": [
      "(10, 3, 250, 250) (10, 1000)\n"
     ]
    }
   ],
   "source": [
    "dataloader = DataLoader(dataset, batch_size=10, shuffle=True, collate_fn=collate_fn)\n",
    "for i, data in enumerate(dataloader):\n",
    "    print(data['image'].shape, data['attributes'].shape)\n",
    "    if (i == 0):\n",
    "          break"
   ]
  },
  {
   "cell_type": "code",
   "execution_count": null,
   "metadata": {},
   "outputs": [],
   "source": []
  },
  {
   "cell_type": "code",
   "execution_count": null,
   "metadata": {},
   "outputs": [],
   "source": []
  },
  {
   "cell_type": "code",
   "execution_count": null,
   "metadata": {},
   "outputs": [],
   "source": []
  }
 ],
 "metadata": {
  "kernelspec": {
   "display_name": "Python 3",
   "language": "python",
   "name": "python3"
  },
  "language_info": {
   "codemirror_mode": {
    "name": "ipython",
    "version": 3
   },
   "file_extension": ".py",
   "mimetype": "text/x-python",
   "name": "python",
   "nbconvert_exporter": "python",
   "pygments_lexer": "ipython3",
   "version": "3.6.5"
  }
 },
 "nbformat": 4,
 "nbformat_minor": 2
}
